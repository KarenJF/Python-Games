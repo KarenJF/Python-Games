{
 "cells": [
  {
   "cell_type": "markdown",
   "metadata": {},
   "source": [
    "# Guessing Game Challenge\n",
    "\n",
    "** Write a program that picks a random integer from 1 to 100, and has players guess the number. The rules are:**\n",
    "\n",
    "* If a player's guess is less than 1 or greater than 100, say \"OUT OF BOUNDS\"\n",
    "* On a player's first turn, if their guess is: \n",
    "  - within 10 of the number, return \"WARM!\"\n",
    "  - further than 10 away from the number, return \"COLD!\"\n",
    "* On all subsequent turns, if a guess is:\n",
    "  - closer to the number than the previous guess return \"WARMER!\"\n",
    "  - farther from the number than the previous guess, return \"COLDER!\"\n",
    "* When the player's guess equals the number, tell them they've guessed correctly and how many guesses it took!"
   ]
  },
  {
   "cell_type": "code",
   "execution_count": 20,
   "metadata": {
    "collapsed": true
   },
   "outputs": [],
   "source": [
    "# Import the random library to generate random number\n",
    "import random"
   ]
  },
  {
   "cell_type": "code",
   "execution_count": 21,
   "metadata": {},
   "outputs": [],
   "source": [
    "# test if the random variable works\n",
    "# random.randint(1,100)"
   ]
  },
  {
   "cell_type": "code",
   "execution_count": 22,
   "metadata": {},
   "outputs": [
    {
     "name": "stdout",
     "output_type": "stream",
     "text": [
      "Welcome to 'Guess my number' Game!\n",
      "You are going to guess a random number from 1 to 100, including 1 and 100.\n",
      "If your guess is less than 1 or greater than 100, I will tell you \"Out of Bounds\"!\n",
      "If your first guess is within 10 of the random number, I will tell you \"WARM\"!\n",
      "If your first guess is further than 10 away from the random number, I will tell you \"COLD\"!\n",
      "Then you are going to make a subsequent guess until you guess the number correctly.\n",
      "If your subsequent guess is closer to the number than the previous guess, I will tell you \"WARMER\"!\n",
      "If your subsequent guess is farther from the number than the previous guess, I will tell you \"COLDER\"!\n",
      "Finally, if you guess the number, I will tell you \"CORRECT\" and tell you how many guesses you took.\n",
      "Now let's begin!\n"
     ]
    }
   ],
   "source": [
    "# write an introduction for how to play the game\n",
    "print(\"Welcome to 'Guess my number' Game!\")\n",
    "print('You are going to guess a random number from 1 to 100, including 1 and 100.')\n",
    "print('If your guess is less than 1 or greater than 100, I will tell you \"Out of Bounds\"!')\n",
    "print('If your first guess is within 10 of the random number, I will tell you \"WARM\"!')\n",
    "print('If your first guess is further than 10 away from the random number, I will tell you \"COLD\"!')\n",
    "print('Then you are going to make a subsequent guess until you guess the number correctly.')\n",
    "print('If your subsequent guess is closer to the number than the previous guess, I will tell you \"WARMER\"!')\n",
    "print('If your subsequent guess is farther from the number than the previous guess, I will tell you \"COLDER\"!')\n",
    "print('Finally, if you guess the number, I will tell you \"CORRECT\" and tell you how many guesses you took.')\n",
    "print(\"Now let's begin!\")"
   ]
  },
  {
   "cell_type": "code",
   "execution_count": 23,
   "metadata": {},
   "outputs": [
    {
     "name": "stdout",
     "output_type": "stream",
     "text": [
      "Guess my number from 1 to 100, please enter your guess:50\n",
      "Your guess is \"COLD\". Keep guessing.\n",
      "Guess my number from 1 to 100, please enter your guess:60\n",
      "Your guess is \"COLDER\"! Keep guessing.\n",
      "Guess my number from 1 to 100, please enter your guess:55\n",
      "Your guess is \"WARMER\"! Keep up the good work.\n",
      "Guess my number from 1 to 100, please enter your guess:54\n",
      "Your guess is \"WARMER\"! Keep up the good work.\n",
      "Guess my number from 1 to 100, please enter your guess:53\n",
      "Your guess is \"WARMER\"! Keep up the good work.\n",
      "Guess my number from 1 to 100, please enter your guess:40\n",
      "Your guess is \"WARMER\"! Keep up the good work.\n",
      "Guess my number from 1 to 100, please enter your guess:30\n",
      "Your guess is \"WARMER\"! Keep up the good work.\n",
      "Guess my number from 1 to 100, please enter your guess:20\n",
      "Your guess is \"WARMER\"! Keep up the good work.\n",
      "Guess my number from 1 to 100, please enter your guess:10\n",
      "Your guess is \"WARMER\"! Keep up the good work.\n",
      "Guess my number from 1 to 100, please enter your guess:2\n",
      "Your guess is \"COLDER\"! Keep guessing.\n",
      "Guess my number from 1 to 100, please enter your guess:6\n",
      "Your guess is \"WARMER\"! Keep up the good work.\n",
      "Guess my number from 1 to 100, please enter your guess:7\n",
      "Your guess is \"WARMER\"! Keep up the good work.\n",
      "Guess my number from 1 to 100, please enter your guess:9\n",
      "Your guess is \"WARMER\"! Keep up the good work.\n",
      "Guess my number from 1 to 100, please enter your guess:11\n",
      "Your guess is \"WARMER\"! Keep up the good work.\n",
      "Guess my number from 1 to 100, please enter your guess:15\n",
      "Your guess is \"COLDER\"! Keep guessing.\n",
      "Guess my number from 1 to 100, please enter your guess:14\n",
      "Your guess is \"WARMER\"! Keep up the good work.\n",
      "Guess my number from 1 to 100, please enter your guess:13\n",
      "Congratulation! You can read my mind!\n",
      "The number of time you took to guess the number is:  17\n"
     ]
    }
   ],
   "source": [
    "# start the game with a random generated number\n",
    "answer = random.randint(1,100)\n",
    "\n",
    "# create an empty list to hold the guessing\n",
    "guess_list = [0]\n",
    "\n",
    "# display input box for user input\n",
    "while True: \n",
    "    guess = int(input(\"Guess my number from 1 to 100, please enter your guess: \" ))\n",
    "    \n",
    "    # if first guess is less than 1 or greater than 100, ask player to guess again\n",
    "    if guess < 1 or guess > 100:\n",
    "        print('Your guess is \"Out of Bounds\"! Please guess again.')\n",
    "        continue \n",
    "    \n",
    "    guess_list.append(guess)\n",
    "    # test if guess_list is appended\n",
    "    # print(guess_list)\n",
    "    # check the lenght of the guess_list\n",
    "    # print(len(guess_list))\n",
    "    \n",
    "    # if the player guess the number, game over!\n",
    "    if guess == answer: \n",
    "        print(\"Congratulation! You can read my mind!\")\n",
    "        print(\"The number of time you took to guess the number is: \", len(guess_list)-1)\n",
    "        break\n",
    "    if guess_list[-2]:\n",
    "        if(abs(answer - guess)< abs(answer - guess_list[-2])):\n",
    "            print('Your guess is \"WARMER\"! Keep up the good work.')\n",
    "        else: \n",
    "            print('Your guess is \"COLDER\"! Keep guessing.')\n",
    "        \n",
    "    else:\n",
    "        if (abs(answer - guess)<=10):\n",
    "            print('Your guess is \"WARM\". Keep up the good work.')\n",
    "        else: \n",
    "            print('Your guess is \"COLD\". Keep guessing.')\n",
    "   "
   ]
  }
 ],
 "metadata": {
  "kernelspec": {
   "display_name": "Python 3",
   "language": "python",
   "name": "python3"
  },
  "language_info": {
   "codemirror_mode": {
    "name": "ipython",
    "version": 3
   },
   "file_extension": ".py",
   "mimetype": "text/x-python",
   "name": "python",
   "nbconvert_exporter": "python",
   "pygments_lexer": "ipython3",
   "version": "3.6.3"
  }
 },
 "nbformat": 4,
 "nbformat_minor": 2
}
